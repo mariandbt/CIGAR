{
 "cells": [
  {
   "cell_type": "code",
   "execution_count": null,
   "id": "3fc4c60a",
   "metadata": {},
   "outputs": [],
   "source": [
    "import pandas as pd\n",
    "import matplotlib.pyplot as plt\n",
    "import json\n",
    "import numpy as np\n",
    "from scipy.ndimage import gaussian_filter1d    \n",
    "import os\n",
    "import argparse\n",
    "import sys\n",
    "\n",
    "current_dir = '/scratch/marian/CIGAR_ANALYSIS/CIGAR/notebooks'\n",
    "\n",
    "# Build the absolute path to ../functions\n",
    "functions_path = os.path.abspath(os.path.join(current_dir, '../functions'))\n",
    "\n",
    "# Add it to sys.path\n",
    "sys.path.append(functions_path)\n",
    "\n",
    "# Import functions\n",
    "import utilityV2 as utility\n",
    "import baseline_calV2 as baseline_cal\n",
    "import parse_data "
   ]
  },
  {
   "cell_type": "code",
   "execution_count": 3,
   "id": "c83d6669",
   "metadata": {},
   "outputs": [],
   "source": [
    "#Initialize output dataframe\n",
    "df_mast = pd.DataFrame(columns=['event','channel','time','time_len','integral'])"
   ]
  },
  {
   "cell_type": "code",
   "execution_count": null,
   "id": "d1dfbe4a",
   "metadata": {},
   "outputs": [],
   "source": [
    "baselines = []\n",
    "baselinesRMS=[]"
   ]
  },
  {
   "cell_type": "code",
   "execution_count": 15,
   "id": "91e67d0e",
   "metadata": {},
   "outputs": [
    {
     "data": {
      "text/plain": [
       "'/home/marian/RecoWf-jvsc-db67406c-a78b-4a7d-b413-93ad34e8c4531ad1ca6c-a65b-4969-bf4c-dbbe3a876a66.ipynb'"
      ]
     },
     "execution_count": 15,
     "metadata": {},
     "output_type": "execute_result"
    }
   ],
   "source": [
    "nb_path"
   ]
  },
  {
   "cell_type": "code",
   "execution_count": null,
   "id": "925f61d2",
   "metadata": {},
   "outputs": [],
   "source": []
  }
 ],
 "metadata": {
  "kernelspec": {
   "display_name": "Python 3 (ipykernel)",
   "language": "python",
   "name": "python3"
  },
  "language_info": {
   "codemirror_mode": {
    "name": "ipython",
    "version": 3
   },
   "file_extension": ".py",
   "mimetype": "text/x-python",
   "name": "python",
   "nbconvert_exporter": "python",
   "pygments_lexer": "ipython3",
   "version": "3.8.20"
  }
 },
 "nbformat": 4,
 "nbformat_minor": 5
}
